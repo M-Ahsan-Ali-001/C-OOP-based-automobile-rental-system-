{
  "nbformat": 4,
  "nbformat_minor": 0,
  "metadata": {
    "colab": {
      "name": "DS&A LAB TASK(Parenthesis Balancing ).ipynb",
      "provenance": []
    },
    "kernelspec": {
      "name": "python3",
      "display_name": "Python 3"
    },
    "language_info": {
      "name": "python"
    }
  },
  "cells": [
    {
      "cell_type": "code",
      "metadata": {
        "id": "Yi3GJkmRSHnV"
      },
      "source": [
        "from collections import deque\n",
        "\n",
        "class stack:\n",
        "    def __init__(self):\n",
        "        self.holder=deque()\n",
        "    \n",
        "    def push(self,data):\n",
        "        self.holder.append(data)\n",
        "    def pop(self):\n",
        "        return self.holder.pop()\n",
        "    def is_balanced(self,exp):\n",
        "        print(\"\\n\",exp,\"\\n\")\n",
        "        if exp[0]==\"(\" or exp[0]==\"{\" or exp[0]==\"[\":\n",
        "            for x in exp:\n",
        "                if x==\"(\":\n",
        "                    self.push(x)\n",
        "                    \n",
        "                elif x ==\"{\":\n",
        "                    self.push(x)\n",
        "                    \n",
        "                elif x ==\"[\":\n",
        "                    self.push(x)\n",
        "               \n",
        "                elif x ==\")\":\n",
        "                    self.pop()\n",
        "                     \n",
        "                elif x ==\"}\":\n",
        "                    self.pop()\n",
        "                       \n",
        "                elif x ==\"]\":\n",
        "                    self.pop()\n",
        "                       \n",
        "            return self.is_empty()        \n",
        "        elif exp[0]==\")\" or exp[0]==\"}\" or exp[0]==\"]\":\n",
        "            return \"False\"\n",
        "                \n",
        "    def is_empty(self):\n",
        "        return len(self.holder)==0\n",
        "        \n",
        "                \n",
        "\n",
        "\n",
        "\n",
        "\n",
        "\n"
      ],
      "execution_count": 1,
      "outputs": []
    },
    {
      "cell_type": "code",
      "metadata": {
        "id": "VISdBYtVSfjK"
      },
      "source": [
        "obj=stack()"
      ],
      "execution_count": 2,
      "outputs": []
    },
    {
      "cell_type": "code",
      "metadata": {
        "colab": {
          "base_uri": "https://localhost:8080/"
        },
        "id": "iWXPV-7mShsx",
        "outputId": "b9d555a2-5f8f-4d1c-d91b-256a2d96e2bc"
      },
      "source": [
        "\n",
        "print(obj.is_balanced(\"({a+b})\"))\n"
      ],
      "execution_count": 3,
      "outputs": [
        {
          "output_type": "stream",
          "name": "stdout",
          "text": [
            "\n",
            " ({a+b}) \n",
            "\n",
            "True\n"
          ]
        }
      ]
    },
    {
      "cell_type": "code",
      "metadata": {
        "colab": {
          "base_uri": "https://localhost:8080/"
        },
        "id": "XmIazBOzSjv7",
        "outputId": "029f6c70-53cf-46b0-fc10-b96adcdb89db"
      },
      "source": [
        "print(obj.is_balanced(\"))((a+b}{\"))"
      ],
      "execution_count": 4,
      "outputs": [
        {
          "output_type": "stream",
          "name": "stdout",
          "text": [
            "\n",
            " ))((a+b}{ \n",
            "\n",
            "False\n"
          ]
        }
      ]
    },
    {
      "cell_type": "code",
      "metadata": {
        "colab": {
          "base_uri": "https://localhost:8080/"
        },
        "id": "OcyTpxHqSmWu",
        "outputId": "5f63ad1d-ffa3-4d90-eaf8-f117098e7c8b"
      },
      "source": [
        "print(obj.is_balanced(\"((a+b))\")) "
      ],
      "execution_count": 5,
      "outputs": [
        {
          "output_type": "stream",
          "name": "stdout",
          "text": [
            "\n",
            " ((a+b)) \n",
            "\n",
            "True\n"
          ]
        }
      ]
    },
    {
      "cell_type": "code",
      "metadata": {
        "colab": {
          "base_uri": "https://localhost:8080/"
        },
        "id": "i7HUXaTQSpIR",
        "outputId": "00f62fea-f370-4274-a77d-24a15e4fb4dd"
      },
      "source": [
        "print(obj.is_balanced(\"[a+b]*(x+2y) *{gg+kk}\"))\n"
      ],
      "execution_count": 6,
      "outputs": [
        {
          "output_type": "stream",
          "name": "stdout",
          "text": [
            "\n",
            " [a+b]*(x+2y) *{gg+kk} \n",
            "\n",
            "True\n"
          ]
        }
      ]
    },
    {
      "cell_type": "code",
      "metadata": {
        "colab": {
          "base_uri": "https://localhost:8080/"
        },
        "id": "5Wnj3ptGSsRB",
        "outputId": "30be470d-8759-4bbc-9489-fb261a89bd44"
      },
      "source": [
        "print(obj.is_balanced(\"))\"))"
      ],
      "execution_count": 7,
      "outputs": [
        {
          "output_type": "stream",
          "name": "stdout",
          "text": [
            "\n",
            " )) \n",
            "\n",
            "False\n"
          ]
        }
      ]
    },
    {
      "cell_type": "code",
      "metadata": {
        "id": "IkdKQwxOSwL5"
      },
      "source": [
        ""
      ],
      "execution_count": null,
      "outputs": []
    }
  ]
}